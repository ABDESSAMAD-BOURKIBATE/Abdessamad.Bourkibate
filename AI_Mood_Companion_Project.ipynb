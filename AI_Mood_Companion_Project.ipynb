{
  "cells": [
    {
      "cell_type": "markdown",
      "metadata": {
        "id": "view-in-github",
        "colab_type": "text"
      },
      "source": [
        "<a href=\"https://colab.research.google.com/github/ABDESSAMAD-BOURKIBATE/Abdessamad.Bourkibate/blob/main/AI_Mood_Companion_Project.ipynb\" target=\"_parent\"><img src=\"https://colab.research.google.com/assets/colab-badge.svg\" alt=\"Open In Colab\"/></a>"
      ]
    },
    {
      "cell_type": "markdown",
      "source": [
        "# **ai_mood_companion Project**\n",
        "\n",
        "> By: Abdessamad Bourkibate\n",
        "\n",
        "This project aims to develop an interactive application operating within the Google Colab environment, powered by artificial intelligence and natural language processing. The program analyzes the user's emotional state based on their text input, logs all mood entries in a dedicated database, and generates insightful statistical visualizations, enabling users to track their psychological well-being over time.\n",
        "The app also provides simple emotional support through encouraging responses and recommendations when needed, as well as visual charts displaying mood history and trends.\n",
        "\n",
        "Project Features:\n",
        "\n",
        "Accept and analyze user input text for sentiment assessment.\n",
        "\n",
        "Identify the type of emotion (positive, negative, etc.) and display confidence scores.\n",
        "\n",
        "Save all entries in a CSV log to enable long-term mood tracking.\n",
        "\n",
        "Generate visual charts to show mood distribution and evolution.\n",
        "\n",
        "Easy to set up and run on Google Colab, with all dependencies handled automatically.\n",
        "\n",
        "Target Audience:\n",
        "\n",
        "Anyone interested in tracking, analyzing, and understanding their emotional state.\n",
        "\n",
        "Students, researchers, or practitioners working on AI applications in mental health or psychology.\n",
        "\n",
        "Usage Steps:\n",
        "\n",
        "Upload the zipped project folder to Google Colab.\n",
        "\n",
        "Install all required dependencies (automatically or manually).\n",
        "\n",
        "Execute the main program file (main.py).\n",
        "\n",
        "Interact with the chatbot by typing feelings, receiving encouragement and analysis.\n",
        "\n",
        "Track mood changes and statistics using built-in charts throughout the usage period.\n",
        "\n",
        "\n",
        "\n"
      ],
      "metadata": {
        "id": "W0kO0GonvhEC"
      }
    },
    {
      "cell_type": "code",
      "source": [
        "from google.colab import files\n",
        "uploaded = files.upload()\n"
      ],
      "metadata": {
        "colab": {
          "base_uri": "https://localhost:8080/",
          "height": 71
        },
        "id": "Dezinhicz7NP",
        "outputId": "cac3c182-7c47-4b55-eef0-a8f2fc48e64c"
      },
      "execution_count": 1,
      "outputs": [
        {
          "output_type": "display_data",
          "data": {
            "text/plain": [
              "<IPython.core.display.HTML object>"
            ],
            "text/html": [
              "\n",
              "     <input type=\"file\" id=\"files-74941bcd-4b55-462c-b3ec-2abb4af9fadc\" name=\"files[]\" multiple disabled\n",
              "        style=\"border:none\" />\n",
              "     <output id=\"result-74941bcd-4b55-462c-b3ec-2abb4af9fadc\">\n",
              "      Upload widget is only available when the cell has been executed in the\n",
              "      current browser session. Please rerun this cell to enable.\n",
              "      </output>\n",
              "      <script>// Copyright 2017 Google LLC\n",
              "//\n",
              "// Licensed under the Apache License, Version 2.0 (the \"License\");\n",
              "// you may not use this file except in compliance with the License.\n",
              "// You may obtain a copy of the License at\n",
              "//\n",
              "//      http://www.apache.org/licenses/LICENSE-2.0\n",
              "//\n",
              "// Unless required by applicable law or agreed to in writing, software\n",
              "// distributed under the License is distributed on an \"AS IS\" BASIS,\n",
              "// WITHOUT WARRANTIES OR CONDITIONS OF ANY KIND, either express or implied.\n",
              "// See the License for the specific language governing permissions and\n",
              "// limitations under the License.\n",
              "\n",
              "/**\n",
              " * @fileoverview Helpers for google.colab Python module.\n",
              " */\n",
              "(function(scope) {\n",
              "function span(text, styleAttributes = {}) {\n",
              "  const element = document.createElement('span');\n",
              "  element.textContent = text;\n",
              "  for (const key of Object.keys(styleAttributes)) {\n",
              "    element.style[key] = styleAttributes[key];\n",
              "  }\n",
              "  return element;\n",
              "}\n",
              "\n",
              "// Max number of bytes which will be uploaded at a time.\n",
              "const MAX_PAYLOAD_SIZE = 100 * 1024;\n",
              "\n",
              "function _uploadFiles(inputId, outputId) {\n",
              "  const steps = uploadFilesStep(inputId, outputId);\n",
              "  const outputElement = document.getElementById(outputId);\n",
              "  // Cache steps on the outputElement to make it available for the next call\n",
              "  // to uploadFilesContinue from Python.\n",
              "  outputElement.steps = steps;\n",
              "\n",
              "  return _uploadFilesContinue(outputId);\n",
              "}\n",
              "\n",
              "// This is roughly an async generator (not supported in the browser yet),\n",
              "// where there are multiple asynchronous steps and the Python side is going\n",
              "// to poll for completion of each step.\n",
              "// This uses a Promise to block the python side on completion of each step,\n",
              "// then passes the result of the previous step as the input to the next step.\n",
              "function _uploadFilesContinue(outputId) {\n",
              "  const outputElement = document.getElementById(outputId);\n",
              "  const steps = outputElement.steps;\n",
              "\n",
              "  const next = steps.next(outputElement.lastPromiseValue);\n",
              "  return Promise.resolve(next.value.promise).then((value) => {\n",
              "    // Cache the last promise value to make it available to the next\n",
              "    // step of the generator.\n",
              "    outputElement.lastPromiseValue = value;\n",
              "    return next.value.response;\n",
              "  });\n",
              "}\n",
              "\n",
              "/**\n",
              " * Generator function which is called between each async step of the upload\n",
              " * process.\n",
              " * @param {string} inputId Element ID of the input file picker element.\n",
              " * @param {string} outputId Element ID of the output display.\n",
              " * @return {!Iterable<!Object>} Iterable of next steps.\n",
              " */\n",
              "function* uploadFilesStep(inputId, outputId) {\n",
              "  const inputElement = document.getElementById(inputId);\n",
              "  inputElement.disabled = false;\n",
              "\n",
              "  const outputElement = document.getElementById(outputId);\n",
              "  outputElement.innerHTML = '';\n",
              "\n",
              "  const pickedPromise = new Promise((resolve) => {\n",
              "    inputElement.addEventListener('change', (e) => {\n",
              "      resolve(e.target.files);\n",
              "    });\n",
              "  });\n",
              "\n",
              "  const cancel = document.createElement('button');\n",
              "  inputElement.parentElement.appendChild(cancel);\n",
              "  cancel.textContent = 'Cancel upload';\n",
              "  const cancelPromise = new Promise((resolve) => {\n",
              "    cancel.onclick = () => {\n",
              "      resolve(null);\n",
              "    };\n",
              "  });\n",
              "\n",
              "  // Wait for the user to pick the files.\n",
              "  const files = yield {\n",
              "    promise: Promise.race([pickedPromise, cancelPromise]),\n",
              "    response: {\n",
              "      action: 'starting',\n",
              "    }\n",
              "  };\n",
              "\n",
              "  cancel.remove();\n",
              "\n",
              "  // Disable the input element since further picks are not allowed.\n",
              "  inputElement.disabled = true;\n",
              "\n",
              "  if (!files) {\n",
              "    return {\n",
              "      response: {\n",
              "        action: 'complete',\n",
              "      }\n",
              "    };\n",
              "  }\n",
              "\n",
              "  for (const file of files) {\n",
              "    const li = document.createElement('li');\n",
              "    li.append(span(file.name, {fontWeight: 'bold'}));\n",
              "    li.append(span(\n",
              "        `(${file.type || 'n/a'}) - ${file.size} bytes, ` +\n",
              "        `last modified: ${\n",
              "            file.lastModifiedDate ? file.lastModifiedDate.toLocaleDateString() :\n",
              "                                    'n/a'} - `));\n",
              "    const percent = span('0% done');\n",
              "    li.appendChild(percent);\n",
              "\n",
              "    outputElement.appendChild(li);\n",
              "\n",
              "    const fileDataPromise = new Promise((resolve) => {\n",
              "      const reader = new FileReader();\n",
              "      reader.onload = (e) => {\n",
              "        resolve(e.target.result);\n",
              "      };\n",
              "      reader.readAsArrayBuffer(file);\n",
              "    });\n",
              "    // Wait for the data to be ready.\n",
              "    let fileData = yield {\n",
              "      promise: fileDataPromise,\n",
              "      response: {\n",
              "        action: 'continue',\n",
              "      }\n",
              "    };\n",
              "\n",
              "    // Use a chunked sending to avoid message size limits. See b/62115660.\n",
              "    let position = 0;\n",
              "    do {\n",
              "      const length = Math.min(fileData.byteLength - position, MAX_PAYLOAD_SIZE);\n",
              "      const chunk = new Uint8Array(fileData, position, length);\n",
              "      position += length;\n",
              "\n",
              "      const base64 = btoa(String.fromCharCode.apply(null, chunk));\n",
              "      yield {\n",
              "        response: {\n",
              "          action: 'append',\n",
              "          file: file.name,\n",
              "          data: base64,\n",
              "        },\n",
              "      };\n",
              "\n",
              "      let percentDone = fileData.byteLength === 0 ?\n",
              "          100 :\n",
              "          Math.round((position / fileData.byteLength) * 100);\n",
              "      percent.textContent = `${percentDone}% done`;\n",
              "\n",
              "    } while (position < fileData.byteLength);\n",
              "  }\n",
              "\n",
              "  // All done.\n",
              "  yield {\n",
              "    response: {\n",
              "      action: 'complete',\n",
              "    }\n",
              "  };\n",
              "}\n",
              "\n",
              "scope.google = scope.google || {};\n",
              "scope.google.colab = scope.google.colab || {};\n",
              "scope.google.colab._files = {\n",
              "  _uploadFiles,\n",
              "  _uploadFilesContinue,\n",
              "};\n",
              "})(self);\n",
              "</script> "
            ]
          },
          "metadata": {}
        },
        {
          "output_type": "stream",
          "name": "stdout",
          "text": [
            "Saving ai_mood_companion.rar to ai_mood_companion.rar\n"
          ]
        }
      ]
    },
    {
      "cell_type": "code",
      "metadata": {
        "colab": {
          "base_uri": "https://localhost:8080/"
        },
        "id": "11fc25d3",
        "outputId": "9cda6f5c-254e-4f4b-994e-6dc8e4f39449"
      },
      "source": [
        "!apt-get install unrar"
      ],
      "execution_count": 2,
      "outputs": [
        {
          "output_type": "stream",
          "name": "stdout",
          "text": [
            "Reading package lists... Done\n",
            "Building dependency tree... Done\n",
            "Reading state information... Done\n",
            "unrar is already the newest version (1:6.1.5-1ubuntu0.1).\n",
            "0 upgraded, 0 newly installed, 0 to remove and 2 not upgraded.\n"
          ]
        }
      ]
    },
    {
      "cell_type": "code",
      "metadata": {
        "colab": {
          "base_uri": "https://localhost:8080/"
        },
        "id": "3ff9ed50",
        "outputId": "d6c9c996-0020-4cc3-ad5a-9a66ee2c749c"
      },
      "source": [
        "!unrar x ai_mood_companion.rar project/"
      ],
      "execution_count": 3,
      "outputs": [
        {
          "output_type": "stream",
          "name": "stdout",
          "text": [
            "\n",
            "UNRAR 6.11 beta 1 freeware      Copyright (c) 1993-2022 Alexander Roshal\n",
            "\n",
            "\n",
            "Extracting from ai_mood_companion.rar\n",
            "\n",
            "Creating    project                                                   OK\n",
            "Creating    project/ai_mood_companion                                 OK\n",
            "Creating    project/ai_mood_companion/data                            OK\n",
            "Extracting  project/ai_mood_companion/data/mood_log.csv                  \b\b\b\b  3%\b\b\b\b\b  OK \n",
            "Extracting  project/ai_mood_companion/main.py                            \b\b\b\b 18%\b\b\b\b\b  OK \n",
            "Extracting  project/ai_mood_companion/main_working.py                    \b\b\b\b 37%\b\b\b\b\b  OK \n",
            "Creating    project/ai_mood_companion/model                           OK\n",
            "Extracting  project/ai_mood_companion/model/sentiment_model.py           \b\b\b\b 49%\b\b\b\b\b  OK \n",
            "Extracting  project/ai_mood_companion/model/__init__.py                  \b\b\b\b 50%\b\b\b\b\b  OK \n",
            "Extracting  project/ai_mood_companion/README.md                          \b\b\b\b 60%\b\b\b\b\b  OK \n",
            "Extracting  project/ai_mood_companion/requirements.txt                   \b\b\b\b 60%\b\b\b\b\b  OK \n",
            "Extracting  project/ai_mood_companion/test_simple.py                     \b\b\b\b 77%\b\b\b\b\b  OK \n",
            "Extracting  project/ai_mood_companion/utils.py                           \b\b\b\b 99%\b\b\b\b\b  OK \n",
            "All OK\n"
          ]
        }
      ]
    },
    {
      "cell_type": "code",
      "source": [
        "import os\n",
        "os.chdir(\"/content/project/ai_mood_companion\")\n",
        "os.listdir()\n"
      ],
      "metadata": {
        "colab": {
          "base_uri": "https://localhost:8080/"
        },
        "id": "83SKsAjB0hoz",
        "outputId": "e97d15cd-82ba-4b05-8301-c6dba2d9f144"
      },
      "execution_count": 4,
      "outputs": [
        {
          "output_type": "execute_result",
          "data": {
            "text/plain": [
              "['test_simple.py',\n",
              " 'README.md',\n",
              " 'main_working.py',\n",
              " 'data',\n",
              " 'requirements.txt',\n",
              " 'model',\n",
              " 'utils.py',\n",
              " 'main.py']"
            ]
          },
          "metadata": {},
          "execution_count": 4
        }
      ]
    },
    {
      "cell_type": "code",
      "source": [
        "!pip install transformers torch textblob pandas numpy\n"
      ],
      "metadata": {
        "colab": {
          "base_uri": "https://localhost:8080/"
        },
        "id": "Ljgd9Ln-0pQg",
        "outputId": "58ea6b12-0b6d-4489-d617-49f3fb940003"
      },
      "execution_count": 5,
      "outputs": [
        {
          "output_type": "stream",
          "name": "stdout",
          "text": [
            "Requirement already satisfied: transformers in /usr/local/lib/python3.12/dist-packages (4.57.1)\n",
            "Requirement already satisfied: torch in /usr/local/lib/python3.12/dist-packages (2.8.0+cpu)\n",
            "Collecting textblob\n",
            "  Downloading textblob-0.19.0-py3-none-any.whl.metadata (4.4 kB)\n",
            "Requirement already satisfied: pandas in /usr/local/lib/python3.12/dist-packages (2.2.2)\n",
            "Requirement already satisfied: numpy in /usr/local/lib/python3.12/dist-packages (2.0.2)\n",
            "Requirement already satisfied: filelock in /usr/local/lib/python3.12/dist-packages (from transformers) (3.20.0)\n",
            "Requirement already satisfied: huggingface-hub<1.0,>=0.34.0 in /usr/local/lib/python3.12/dist-packages (from transformers) (0.36.0)\n",
            "Requirement already satisfied: packaging>=20.0 in /usr/local/lib/python3.12/dist-packages (from transformers) (25.0)\n",
            "Requirement already satisfied: pyyaml>=5.1 in /usr/local/lib/python3.12/dist-packages (from transformers) (6.0.3)\n",
            "Requirement already satisfied: regex!=2019.12.17 in /usr/local/lib/python3.12/dist-packages (from transformers) (2025.10.23)\n",
            "Requirement already satisfied: requests in /usr/local/lib/python3.12/dist-packages (from transformers) (2.32.4)\n",
            "Requirement already satisfied: tokenizers<=0.23.0,>=0.22.0 in /usr/local/lib/python3.12/dist-packages (from transformers) (0.22.1)\n",
            "Requirement already satisfied: safetensors>=0.4.3 in /usr/local/lib/python3.12/dist-packages (from transformers) (0.6.2)\n",
            "Requirement already satisfied: tqdm>=4.27 in /usr/local/lib/python3.12/dist-packages (from transformers) (4.67.1)\n",
            "Requirement already satisfied: typing-extensions>=4.10.0 in /usr/local/lib/python3.12/dist-packages (from torch) (4.15.0)\n",
            "Requirement already satisfied: setuptools in /usr/local/lib/python3.12/dist-packages (from torch) (75.2.0)\n",
            "Requirement already satisfied: sympy>=1.13.3 in /usr/local/lib/python3.12/dist-packages (from torch) (1.14.0)\n",
            "Requirement already satisfied: networkx in /usr/local/lib/python3.12/dist-packages (from torch) (3.5)\n",
            "Requirement already satisfied: jinja2 in /usr/local/lib/python3.12/dist-packages (from torch) (3.1.6)\n",
            "Requirement already satisfied: fsspec in /usr/local/lib/python3.12/dist-packages (from torch) (2025.9.0)\n",
            "Requirement already satisfied: nltk>=3.9 in /usr/local/lib/python3.12/dist-packages (from textblob) (3.9.1)\n",
            "Requirement already satisfied: python-dateutil>=2.8.2 in /usr/local/lib/python3.12/dist-packages (from pandas) (2.9.0.post0)\n",
            "Requirement already satisfied: pytz>=2020.1 in /usr/local/lib/python3.12/dist-packages (from pandas) (2025.2)\n",
            "Requirement already satisfied: tzdata>=2022.7 in /usr/local/lib/python3.12/dist-packages (from pandas) (2025.2)\n",
            "Requirement already satisfied: hf-xet<2.0.0,>=1.1.3 in /usr/local/lib/python3.12/dist-packages (from huggingface-hub<1.0,>=0.34.0->transformers) (1.2.0)\n",
            "Requirement already satisfied: click in /usr/local/lib/python3.12/dist-packages (from nltk>=3.9->textblob) (8.3.0)\n",
            "Requirement already satisfied: joblib in /usr/local/lib/python3.12/dist-packages (from nltk>=3.9->textblob) (1.5.2)\n",
            "Requirement already satisfied: six>=1.5 in /usr/local/lib/python3.12/dist-packages (from python-dateutil>=2.8.2->pandas) (1.17.0)\n",
            "Requirement already satisfied: mpmath<1.4,>=1.1.0 in /usr/local/lib/python3.12/dist-packages (from sympy>=1.13.3->torch) (1.3.0)\n",
            "Requirement already satisfied: MarkupSafe>=2.0 in /usr/local/lib/python3.12/dist-packages (from jinja2->torch) (3.0.3)\n",
            "Requirement already satisfied: charset_normalizer<4,>=2 in /usr/local/lib/python3.12/dist-packages (from requests->transformers) (3.4.4)\n",
            "Requirement already satisfied: idna<4,>=2.5 in /usr/local/lib/python3.12/dist-packages (from requests->transformers) (3.11)\n",
            "Requirement already satisfied: urllib3<3,>=1.21.1 in /usr/local/lib/python3.12/dist-packages (from requests->transformers) (2.5.0)\n",
            "Requirement already satisfied: certifi>=2017.4.17 in /usr/local/lib/python3.12/dist-packages (from requests->transformers) (2025.10.5)\n",
            "Downloading textblob-0.19.0-py3-none-any.whl (624 kB)\n",
            "\u001b[2K   \u001b[90m━━━━━━━━━━━━━━━━━━━━━━━━━━━━━━━━━━━━━━━━\u001b[0m \u001b[32m624.3/624.3 kB\u001b[0m \u001b[31m14.9 MB/s\u001b[0m eta \u001b[36m0:00:00\u001b[0m\n",
            "\u001b[?25hInstalling collected packages: textblob\n",
            "Successfully installed textblob-0.19.0\n"
          ]
        }
      ]
    },
    {
      "cell_type": "code",
      "source": [
        "!python main.py\n"
      ],
      "metadata": {
        "colab": {
          "base_uri": "https://localhost:8080/"
        },
        "id": "HQUixCWJ0uzH",
        "outputId": "09c56fd5-ba87-4693-ebd4-3cbc1244da88"
      },
      "execution_count": 7,
      "outputs": [
        {
          "output_type": "stream",
          "name": "stdout",
          "text": [
            "/usr/local/lib/python3.12/dist-packages/jax/_src/cloud_tpu_init.py:86: UserWarning: Transparent hugepages are not enabled. TPU runtime startup and shutdown time should be significantly improved on TPU v5e and newer. If not already set, you may need to enable transparent hugepages in your VM image (sudo sh -c \"echo always > /sys/kernel/mm/transparent_hugepage/enabled\")\n",
            "  warnings.warn(\n",
            "/usr/local/lib/python3.12/dist-packages/torch_xla/experimental/gru.py:113: SyntaxWarning: invalid escape sequence '\\_'\n",
            "  * **h_n**: tensor of shape :math:`(D * \\text{num\\_layers}, H_{out})` or\n",
            "🔄 Initializing AI Mood Companion...\n",
            "📥 Loading sentiment analysis model...\n",
            "Loading sentiment analysis model... This may take a moment.\n",
            "Note: First time loading will download the model (~268MB).\n",
            "Please be patient and ensure you have a stable internet connection.\n",
            "config.json: 100% 629/629 [00:00<00:00, 6.27MB/s]\n",
            "model.safetensors: 100% 268M/268M [00:01<00:00, 230MB/s]  \n",
            "tokenizer_config.json: 100% 48.0/48.0 [00:00<00:00, 639kB/s]\n",
            "vocab.txt: 100% 232k/232k [00:00<00:00, 3.82MB/s]\n",
            "Device set to use cpu\n",
            "Model loaded successfully!\n",
            "✅ Initialization complete!\n",
            "\n",
            "🌟 Welcome to your AI Mood Companion! 🌟\n",
            "\n",
            "I'm here to listen and support you on your emotional journey.\n",
            "Share your feelings with me, and I'll do my best to provide comfort and encouragement.\n",
            "\n",
            "💡 Tips:\n",
            "- Be honest about how you're feeling\n",
            "- There's no judgment here - all emotions are valid\n",
            "- Type 'exit' when you want to end our chat\n",
            "- Type 'stats' to see your mood history\n",
            "\n",
            "Let's start - how are you feeling today?\n",
            "\n",
            "\n",
            "💬 You: I feel very happy today, things went great.\n",
            "✓ Entry logged at 2025-10-31 16:59:32\n",
            "\n",
            "==================================================\n",
            "🧠 Sentiment Detected: POSITIVE\n",
            "📊 Confidence: 1.00\n",
            "==================================================\n",
            "💝 Response:\n",
            "\"Amazing! Your positivity is contagious 😊 Keep shining bright!\"\n",
            "==================================================\n",
            "\n",
            "💬 You: I’m anxious about my exams.\n",
            "✓ Entry logged at 2025-10-31 16:59:44\n",
            "\n",
            "==================================================\n",
            "🧠 Sentiment Detected: NEGATIVE\n",
            "📊 Confidence: 1.00\n",
            "==================================================\n",
            "💝 Response:\n",
            "\"These difficult feelings will pass, just like clouds in the sky ☁️ Stay strong, friend.\"\n",
            "==================================================\n",
            "\n",
            "💬 You: I’m very tired, everything feels difficult today.\n",
            "✓ Entry logged at 2025-10-31 16:59:58\n",
            "\n",
            "==================================================\n",
            "🧠 Sentiment Detected: NEGATIVE\n",
            "📊 Confidence: 1.00\n",
            "==================================================\n",
            "💝 Response:\n",
            "\"I'm here with you in this moment 🤍 Remember, asking for help is a sign of strength.\"\n",
            "==================================================\n",
            "\n",
            "💬 You: I lost motivation for my studies and I don’t feel like I’m making progress.\n",
            "✓ Entry logged at 2025-10-31 17:00:11\n",
            "\n",
            "==================================================\n",
            "🧠 Sentiment Detected: NEGATIVE\n",
            "📊 Confidence: 1.00\n",
            "==================================================\n",
            "💝 Response:\n",
            "\"Tough moments don't last, but resilient people like you do 💪 This too shall pass.\"\n",
            "==================================================\n",
            "\n",
            "💬 You: Today I felt grateful because my friends supported me.\n",
            "✓ Entry logged at 2025-10-31 17:00:23\n",
            "\n",
            "==================================================\n",
            "🧠 Sentiment Detected: POSITIVE\n",
            "📊 Confidence: 1.00\n",
            "==================================================\n",
            "💝 Response:\n",
            "\"What a beautiful mindset! Hold onto these good feelings 🌟 They will carry you far!\"\n",
            "==================================================\n",
            "\n",
            "💬 You: stats\n",
            "\n",
            "========================================\n",
            "📊 YOUR MOOD STATISTICS\n",
            "========================================\n",
            "Total entries: 11\n",
            "Positive moments: 2 (18.2%)\n",
            "Challenging moments: 3 (27.3%)\n",
            "Average confidence: 0.73\n",
            "========================================\n",
            "\n",
            "💬 You: exit\n",
            "\n",
            "🌸 Thank you for sharing your feelings with me today! 🌸\n",
            "\n",
            "Remember:\n",
            "- You are valuable and your feelings matter\n",
            "- Every day is a new opportunity\n",
            "- It's okay to reach out for support when you need it\n",
            "\n",
            "Take care of yourself, and know that I'm here whenever you need to talk.\n",
            "Have a peaceful day! 💛\n",
            "\n",
            "✨ Keep shining! ✨\n",
            "\n"
          ]
        }
      ]
    },
    {
      "cell_type": "code",
      "source": [
        "import pandas as pd\n",
        "df = pd.read_csv(\"data/mood_log.csv\")\n",
        "print(df.head())\n",
        "print(df['sentiment'].value_counts())\n"
      ],
      "metadata": {
        "id": "ROjKSAdI2D7i",
        "colab": {
          "base_uri": "https://localhost:8080/"
        },
        "outputId": "2bdd4642-fbbf-4a42-f68d-794058ff2eda"
      },
      "execution_count": 8,
      "outputs": [
        {
          "output_type": "stream",
          "name": "stdout",
          "text": [
            "             timestamp user_input sentiment  confidence  \\\n",
            "0  2025-10-31 15:52:03          y   NEUTRAL         0.5   \n",
            "1  2025-10-31 16:01:16          y   NEUTRAL         0.5   \n",
            "2  2025-10-31 16:01:25        YES   NEUTRAL         0.5   \n",
            "3  2025-10-31 16:01:30         SI   NEUTRAL         0.5   \n",
            "4  2025-10-31 16:01:33         SI   NEUTRAL         0.5   \n",
            "\n",
            "                                            response  \n",
            "0  These difficult feelings will pass, just like ...  \n",
            "1  These difficult feelings will pass, just like ...  \n",
            "2  Tough moments don't last, but resilient people...  \n",
            "3  Tough moments don't last, but resilient people...  \n",
            "4  I hear you, and your feelings are valid. Take ...  \n",
            "sentiment\n",
            "NEUTRAL     6\n",
            "NEGATIVE    3\n",
            "POSITIVE    2\n",
            "Name: count, dtype: int64\n"
          ]
        }
      ]
    },
    {
      "cell_type": "code",
      "source": [
        "import matplotlib.pyplot as plt\n",
        "df['sentiment'].value_counts().plot(kind='bar')\n",
        "plt.title(\"Mood History\")\n",
        "plt.show()\n"
      ],
      "metadata": {
        "colab": {
          "base_uri": "https://localhost:8080/",
          "height": 527
        },
        "id": "ZD-lXpP52GmQ",
        "outputId": "401375fe-0a3e-4d4c-9064-406b97ae2f8a"
      },
      "execution_count": 9,
      "outputs": [
        {
          "output_type": "display_data",
          "data": {
            "text/plain": [
              "<Figure size 640x480 with 1 Axes>"
            ],
            "image/png": "[encoded data removed]"
          },
          "metadata": {}
        }
      ]
    },
    {
      "cell_type": "code",
      "source": [
        "!zip -r ai_mood_companion_output.zip /content/project/ai_mood_companion\n"
      ],
      "metadata": {
        "colab": {
          "base_uri": "https://localhost:8080/"
        },
        "id": "GvYcjYDG7xGb",
        "outputId": "d945d25a-049e-4c2b-b04e-399f1f6d40d1"
      },
      "execution_count": null,
      "outputs": [
        {
          "output_type": "stream",
          "name": "stdout",
          "text": [
            "  adding: content/project/ai_mood_companion/ (stored 0%)\n",
            "  adding: content/project/ai_mood_companion/requirements.txt (deflated 2%)\n",
            "  adding: content/project/ai_mood_companion/__pycache__/ (stored 0%)\n",
            "  adding: content/project/ai_mood_companion/__pycache__/utils.cpython-312.pyc (deflated 51%)\n",
            "  adding: content/project/ai_mood_companion/main.py (deflated 70%)\n",
            "  adding: content/project/ai_mood_companion/main_working.py (deflated 70%)\n",
            "  adding: content/project/ai_mood_companion/data/ (stored 0%)\n",
            "  adding: content/project/ai_mood_companion/data/mood_log.csv (deflated 56%)\n",
            "  adding: content/project/ai_mood_companion/utils.py (deflated 64%)\n",
            "  adding: content/project/ai_mood_companion/test_simple.py (deflated 62%)\n",
            "  adding: content/project/ai_mood_companion/README.md (deflated 53%)\n",
            "  adding: content/project/ai_mood_companion/model/ (stored 0%)\n",
            "  adding: content/project/ai_mood_companion/model/__init__.py (deflated 3%)\n",
            "  adding: content/project/ai_mood_companion/model/__pycache__/ (stored 0%)\n",
            "  adding: content/project/ai_mood_companion/model/__pycache__/__init__.cpython-312.pyc (deflated 20%)\n",
            "  adding: content/project/ai_mood_companion/model/__pycache__/sentiment_model.cpython-312.pyc (deflated 50%)\n",
            "  adding: content/project/ai_mood_companion/model/sentiment_model.py (deflated 70%)\n"
          ]
        }
      ]
    },
    {
      "cell_type": "code",
      "source": [
        "from google.colab import files\n",
        "files.download(\"ai_mood_companion_output.zip\")\n"
      ],
      "metadata": {
        "colab": {
          "base_uri": "https://localhost:8080/",
          "height": 17
        },
        "id": "BAfW5QSwATiD",
        "outputId": "137b7104-4402-41f0-853f-073af2507361"
      },
      "execution_count": null,
      "outputs": [
        {
          "output_type": "display_data",
          "data": {
            "text/plain": [
              "<IPython.core.display.Javascript object>"
            ],
            "application/javascript": [
              "\n",
              "    async function download(id, filename, size) {\n",
              "      if (!google.colab.kernel.accessAllowed) {\n",
              "        return;\n",
              "      }\n",
              "      const div = document.createElement('div');\n",
              "      const label = document.createElement('label');\n",
              "      label.textContent = `Downloading \"${filename}\": `;\n",
              "      div.appendChild(label);\n",
              "      const progress = document.createElement('progress');\n",
              "      progress.max = size;\n",
              "      div.appendChild(progress);\n",
              "      document.body.appendChild(div);\n",
              "\n",
              "      const buffers = [];\n",
              "      let downloaded = 0;\n",
              "\n",
              "      const channel = await google.colab.kernel.comms.open(id);\n",
              "      // Send a message to notify the kernel that we're ready.\n",
              "      channel.send({})\n",
              "\n",
              "      for await (const message of channel.messages) {\n",
              "        // Send a message to notify the kernel that we're ready.\n",
              "        channel.send({})\n",
              "        if (message.buffers) {\n",
              "          for (const buffer of message.buffers) {\n",
              "            buffers.push(buffer);\n",
              "            downloaded += buffer.byteLength;\n",
              "            progress.value = downloaded;\n",
              "          }\n",
              "        }\n",
              "      }\n",
              "      const blob = new Blob(buffers, {type: 'application/binary'});\n",
              "      const a = document.createElement('a');\n",
              "      a.href = window.URL.createObjectURL(blob);\n",
              "      a.download = filename;\n",
              "      div.appendChild(a);\n",
              "      a.click();\n",
              "      div.remove();\n",
              "    }\n",
              "  "
            ]
          },
          "metadata": {}
        },
        {
          "output_type": "display_data",
          "data": {
            "text/plain": [
              "<IPython.core.display.Javascript object>"
            ],
            "application/javascript": [
              "download(\"download_47ea2604-b6a1-4b4c-ba6b-774fea5bbc69\", \"ai_mood_companion_output.zip\", 25330)"
            ]
          },
          "metadata": {}
        }
      ]
    }
  ],
  "metadata": {
    "colab": {
      "provenance": [],
      "gpuType": "V5E1",
      "include_colab_link": true
    },
    "kernelspec": {
      "display_name": "Python 3",
      "name": "python3"
    },
    "accelerator": "TPU"
  },
  "nbformat": 4,
  "nbformat_minor": 0
}